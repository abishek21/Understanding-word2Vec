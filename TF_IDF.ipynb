{
  "nbformat": 4,
  "nbformat_minor": 0,
  "metadata": {
    "colab": {
      "name": "TF_IDF.ipynb",
      "version": "0.3.2",
      "provenance": []
    },
    "kernelspec": {
      "display_name": "Python 3",
      "language": "python",
      "name": "python3"
    }
  },
  "cells": [
    {
      "metadata": {
        "id": "p8PR9VlBkNey",
        "colab_type": "code",
        "colab": {}
      },
      "cell_type": "code",
      "source": [
        "docA = \"i had a good day my teacher was very happy\"\n",
        "docB = \"today i went to theatre i enjoyed a lot\" \n",
        "docQ=\"today i went to park  i enjoyed a lot\" ##given query"
      ],
      "execution_count": 0,
      "outputs": []
    },
    {
      "metadata": {
        "id": "9KNCHm3JkNe4",
        "colab_type": "code",
        "colab": {}
      },
      "cell_type": "code",
      "source": [
        "bowA = docA.split(\" \")\n",
        "bowB = docB.split(\" \")\n",
        "bowQ=docQ.split(\" \")"
      ],
      "execution_count": 0,
      "outputs": []
    },
    {
      "metadata": {
        "id": "LHI9qV4vkaHu",
        "colab_type": "code",
        "outputId": "7cf66447-c485-470c-c5a1-d3e67cc2c802",
        "colab": {
          "base_uri": "https://localhost:8080/",
          "height": 34
        }
      },
      "cell_type": "code",
      "source": [
        "bowA"
      ],
      "execution_count": 0,
      "outputs": [
        {
          "output_type": "execute_result",
          "data": {
            "text/plain": [
              "['i', 'had', 'a', 'good', 'day', 'my', 'teacher', 'was', 'very', 'happy']"
            ]
          },
          "metadata": {
            "tags": []
          },
          "execution_count": 3
        }
      ]
    },
    {
      "metadata": {
        "id": "WkrYAx5PkNe9",
        "colab_type": "code",
        "colab": {}
      },
      "cell_type": "code",
      "source": [
        "wordSet = set(bowA).union(set(bowB).union(set(bowQ)))"
      ],
      "execution_count": 0,
      "outputs": []
    },
    {
      "metadata": {
        "id": "3vqGXNxKkdVD",
        "colab_type": "code",
        "outputId": "95f8df5a-0e45-4000-a3d5-1379f417054c",
        "colab": {
          "base_uri": "https://localhost:8080/",
          "height": 323
        }
      },
      "cell_type": "code",
      "source": [
        "wordSet"
      ],
      "execution_count": 0,
      "outputs": [
        {
          "output_type": "execute_result",
          "data": {
            "text/plain": [
              "{'',\n",
              " 'a',\n",
              " 'day',\n",
              " 'enjoyed',\n",
              " 'good',\n",
              " 'had',\n",
              " 'happy',\n",
              " 'i',\n",
              " 'lot',\n",
              " 'my',\n",
              " 'park',\n",
              " 'teacher',\n",
              " 'theatre',\n",
              " 'to',\n",
              " 'today',\n",
              " 'very',\n",
              " 'was',\n",
              " 'went'}"
            ]
          },
          "metadata": {
            "tags": []
          },
          "execution_count": 5
        }
      ]
    },
    {
      "metadata": {
        "id": "66FQOoc0kNfB",
        "colab_type": "code",
        "colab": {}
      },
      "cell_type": "code",
      "source": [
        "wordDictA = dict.fromkeys(wordSet, 0) \n",
        "wordDictB = dict.fromkeys(wordSet, 0) \n",
        "wordDictQ=dict.fromkeys(wordSet,0)"
      ],
      "execution_count": 0,
      "outputs": []
    },
    {
      "metadata": {
        "id": "HCTo10O4kNfF",
        "colab_type": "code",
        "colab": {}
      },
      "cell_type": "code",
      "source": [
        "for word in bowA:\n",
        "    wordDictA[word]+=1\n",
        "    \n",
        "for word in bowB:\n",
        "    wordDictB[word]+=1\n",
        "    "
      ],
      "execution_count": 0,
      "outputs": []
    },
    {
      "metadata": {
        "id": "iUvRCCkDkNfI",
        "colab_type": "code",
        "colab": {}
      },
      "cell_type": "code",
      "source": [
        "for word in bowQ:\n",
        "    wordDictQ[word]+=1"
      ],
      "execution_count": 0,
      "outputs": []
    },
    {
      "metadata": {
        "id": "TT5JwMP1kNfM",
        "colab_type": "code",
        "outputId": "184918f6-1375-440b-f584-e10789f94ef9",
        "colab": {
          "base_uri": "https://localhost:8080/",
          "height": 142
        }
      },
      "cell_type": "code",
      "source": [
        "import pandas as pd\n",
        "pd.DataFrame([wordDictA, wordDictB, wordDictQ])"
      ],
      "execution_count": 0,
      "outputs": [
        {
          "output_type": "execute_result",
          "data": {
            "text/html": [
              "<div>\n",
              "<style scoped>\n",
              "    .dataframe tbody tr th:only-of-type {\n",
              "        vertical-align: middle;\n",
              "    }\n",
              "\n",
              "    .dataframe tbody tr th {\n",
              "        vertical-align: top;\n",
              "    }\n",
              "\n",
              "    .dataframe thead th {\n",
              "        text-align: right;\n",
              "    }\n",
              "</style>\n",
              "<table border=\"1\" class=\"dataframe\">\n",
              "  <thead>\n",
              "    <tr style=\"text-align: right;\">\n",
              "      <th></th>\n",
              "      <th></th>\n",
              "      <th>a</th>\n",
              "      <th>day</th>\n",
              "      <th>enjoyed</th>\n",
              "      <th>good</th>\n",
              "      <th>had</th>\n",
              "      <th>happy</th>\n",
              "      <th>i</th>\n",
              "      <th>lot</th>\n",
              "      <th>my</th>\n",
              "      <th>park</th>\n",
              "      <th>teacher</th>\n",
              "      <th>theatre</th>\n",
              "      <th>to</th>\n",
              "      <th>today</th>\n",
              "      <th>very</th>\n",
              "      <th>was</th>\n",
              "      <th>went</th>\n",
              "    </tr>\n",
              "  </thead>\n",
              "  <tbody>\n",
              "    <tr>\n",
              "      <th>0</th>\n",
              "      <td>0</td>\n",
              "      <td>1</td>\n",
              "      <td>1</td>\n",
              "      <td>0</td>\n",
              "      <td>1</td>\n",
              "      <td>1</td>\n",
              "      <td>1</td>\n",
              "      <td>1</td>\n",
              "      <td>0</td>\n",
              "      <td>1</td>\n",
              "      <td>0</td>\n",
              "      <td>1</td>\n",
              "      <td>0</td>\n",
              "      <td>0</td>\n",
              "      <td>0</td>\n",
              "      <td>1</td>\n",
              "      <td>1</td>\n",
              "      <td>0</td>\n",
              "    </tr>\n",
              "    <tr>\n",
              "      <th>1</th>\n",
              "      <td>0</td>\n",
              "      <td>1</td>\n",
              "      <td>0</td>\n",
              "      <td>1</td>\n",
              "      <td>0</td>\n",
              "      <td>0</td>\n",
              "      <td>0</td>\n",
              "      <td>2</td>\n",
              "      <td>1</td>\n",
              "      <td>0</td>\n",
              "      <td>0</td>\n",
              "      <td>0</td>\n",
              "      <td>1</td>\n",
              "      <td>1</td>\n",
              "      <td>1</td>\n",
              "      <td>0</td>\n",
              "      <td>0</td>\n",
              "      <td>1</td>\n",
              "    </tr>\n",
              "    <tr>\n",
              "      <th>2</th>\n",
              "      <td>1</td>\n",
              "      <td>1</td>\n",
              "      <td>0</td>\n",
              "      <td>1</td>\n",
              "      <td>0</td>\n",
              "      <td>0</td>\n",
              "      <td>0</td>\n",
              "      <td>2</td>\n",
              "      <td>1</td>\n",
              "      <td>0</td>\n",
              "      <td>1</td>\n",
              "      <td>0</td>\n",
              "      <td>0</td>\n",
              "      <td>1</td>\n",
              "      <td>1</td>\n",
              "      <td>0</td>\n",
              "      <td>0</td>\n",
              "      <td>1</td>\n",
              "    </tr>\n",
              "  </tbody>\n",
              "</table>\n",
              "</div>"
            ],
            "text/plain": [
              "      a  day  enjoyed  good  had  happy  i  lot  my  park  teacher  theatre  \\\n",
              "0  0  1    1        0     1    1      1  1    0   1     0        1        0   \n",
              "1  0  1    0        1     0    0      0  2    1   0     0        0        1   \n",
              "2  1  1    0        1     0    0      0  2    1   0     1        0        0   \n",
              "\n",
              "   to  today  very  was  went  \n",
              "0   0      0     1    1     0  \n",
              "1   1      1     0    0     1  \n",
              "2   1      1     0    0     1  "
            ]
          },
          "metadata": {
            "tags": []
          },
          "execution_count": 9
        }
      ]
    },
    {
      "metadata": {
        "id": "h18L3KMekpnj",
        "colab_type": "text"
      },
      "cell_type": "markdown",
      "source": [
        "TERM FREQUENCY=  word(i)/Total count\n"
      ]
    },
    {
      "metadata": {
        "id": "iZGNGsvtkNfT",
        "colab_type": "code",
        "colab": {}
      },
      "cell_type": "code",
      "source": [
        "def computeTF(wordDict, bow):\n",
        "    tfDict = {}\n",
        "    bowCount = len(bow)\n",
        "    for word, count in wordDict.items():\n",
        "        tfDict[word] = count/float(bowCount)\n",
        "    return tfDict"
      ],
      "execution_count": 0,
      "outputs": []
    },
    {
      "metadata": {
        "id": "BPBblFstkNfb",
        "colab_type": "code",
        "colab": {}
      },
      "cell_type": "code",
      "source": [
        "tfBowA = computeTF(wordDictA, bowA)\n",
        "tfBowB = computeTF(wordDictB, bowB)\n",
        "tfBowQ=computeTF(wordDictQ, bowQ)"
      ],
      "execution_count": 0,
      "outputs": []
    },
    {
      "metadata": {
        "id": "J_KV0j2tkNfg",
        "colab_type": "code",
        "outputId": "81b220bc-9089-46ba-e214-9a234c83d536",
        "colab": {
          "base_uri": "https://localhost:8080/",
          "height": 142
        }
      },
      "cell_type": "code",
      "source": [
        "pd.DataFrame([tfBowA,tfBowB,tfBowQ])"
      ],
      "execution_count": 0,
      "outputs": [
        {
          "output_type": "execute_result",
          "data": {
            "text/html": [
              "<div>\n",
              "<style scoped>\n",
              "    .dataframe tbody tr th:only-of-type {\n",
              "        vertical-align: middle;\n",
              "    }\n",
              "\n",
              "    .dataframe tbody tr th {\n",
              "        vertical-align: top;\n",
              "    }\n",
              "\n",
              "    .dataframe thead th {\n",
              "        text-align: right;\n",
              "    }\n",
              "</style>\n",
              "<table border=\"1\" class=\"dataframe\">\n",
              "  <thead>\n",
              "    <tr style=\"text-align: right;\">\n",
              "      <th></th>\n",
              "      <th></th>\n",
              "      <th>a</th>\n",
              "      <th>day</th>\n",
              "      <th>enjoyed</th>\n",
              "      <th>good</th>\n",
              "      <th>had</th>\n",
              "      <th>happy</th>\n",
              "      <th>i</th>\n",
              "      <th>lot</th>\n",
              "      <th>my</th>\n",
              "      <th>park</th>\n",
              "      <th>teacher</th>\n",
              "      <th>theatre</th>\n",
              "      <th>to</th>\n",
              "      <th>today</th>\n",
              "      <th>very</th>\n",
              "      <th>was</th>\n",
              "      <th>went</th>\n",
              "    </tr>\n",
              "  </thead>\n",
              "  <tbody>\n",
              "    <tr>\n",
              "      <th>0</th>\n",
              "      <td>0.0</td>\n",
              "      <td>0.100000</td>\n",
              "      <td>0.1</td>\n",
              "      <td>0.000000</td>\n",
              "      <td>0.1</td>\n",
              "      <td>0.1</td>\n",
              "      <td>0.1</td>\n",
              "      <td>0.100000</td>\n",
              "      <td>0.000000</td>\n",
              "      <td>0.1</td>\n",
              "      <td>0.0</td>\n",
              "      <td>0.1</td>\n",
              "      <td>0.000000</td>\n",
              "      <td>0.000000</td>\n",
              "      <td>0.000000</td>\n",
              "      <td>0.1</td>\n",
              "      <td>0.1</td>\n",
              "      <td>0.000000</td>\n",
              "    </tr>\n",
              "    <tr>\n",
              "      <th>1</th>\n",
              "      <td>0.0</td>\n",
              "      <td>0.111111</td>\n",
              "      <td>0.0</td>\n",
              "      <td>0.111111</td>\n",
              "      <td>0.0</td>\n",
              "      <td>0.0</td>\n",
              "      <td>0.0</td>\n",
              "      <td>0.222222</td>\n",
              "      <td>0.111111</td>\n",
              "      <td>0.0</td>\n",
              "      <td>0.0</td>\n",
              "      <td>0.0</td>\n",
              "      <td>0.111111</td>\n",
              "      <td>0.111111</td>\n",
              "      <td>0.111111</td>\n",
              "      <td>0.0</td>\n",
              "      <td>0.0</td>\n",
              "      <td>0.111111</td>\n",
              "    </tr>\n",
              "    <tr>\n",
              "      <th>2</th>\n",
              "      <td>0.1</td>\n",
              "      <td>0.100000</td>\n",
              "      <td>0.0</td>\n",
              "      <td>0.100000</td>\n",
              "      <td>0.0</td>\n",
              "      <td>0.0</td>\n",
              "      <td>0.0</td>\n",
              "      <td>0.200000</td>\n",
              "      <td>0.100000</td>\n",
              "      <td>0.0</td>\n",
              "      <td>0.1</td>\n",
              "      <td>0.0</td>\n",
              "      <td>0.000000</td>\n",
              "      <td>0.100000</td>\n",
              "      <td>0.100000</td>\n",
              "      <td>0.0</td>\n",
              "      <td>0.0</td>\n",
              "      <td>0.100000</td>\n",
              "    </tr>\n",
              "  </tbody>\n",
              "</table>\n",
              "</div>"
            ],
            "text/plain": [
              "               a  day   enjoyed  good  had  happy         i       lot   my  \\\n",
              "0  0.0  0.100000  0.1  0.000000   0.1  0.1    0.1  0.100000  0.000000  0.1   \n",
              "1  0.0  0.111111  0.0  0.111111   0.0  0.0    0.0  0.222222  0.111111  0.0   \n",
              "2  0.1  0.100000  0.0  0.100000   0.0  0.0    0.0  0.200000  0.100000  0.0   \n",
              "\n",
              "   park  teacher   theatre        to     today  very  was      went  \n",
              "0   0.0      0.1  0.000000  0.000000  0.000000   0.1  0.1  0.000000  \n",
              "1   0.0      0.0  0.111111  0.111111  0.111111   0.0  0.0  0.111111  \n",
              "2   0.1      0.0  0.000000  0.100000  0.100000   0.0  0.0  0.100000  "
            ]
          },
          "metadata": {
            "tags": []
          },
          "execution_count": 12
        }
      ]
    },
    {
      "metadata": {
        "id": "Z0J8x83smQQg",
        "colab_type": "text"
      },
      "cell_type": "markdown",
      "source": [
        "Inverse Document Frequncy  T= Log(1+d/Total number of Document)\n",
        " Idf is calculated for each unique term in document\n",
        " where d is number of documents in which term T has appeared"
      ]
    },
    {
      "metadata": {
        "id": "42DZWDbUkNfr",
        "colab_type": "code",
        "colab": {}
      },
      "cell_type": "code",
      "source": [
        "def computeIDF(docList):\n",
        "    import math\n",
        "    idfDict = {}\n",
        "    N = len(docList)\n",
        "    \n",
        "    idfDict = dict.fromkeys(docList[0].keys(), 0)\n",
        "    for doc in docList:\n",
        "        for word, val in doc.items():\n",
        "            if val > 0:\n",
        "                idfDict[word] += 1\n",
        "    \n",
        "    for word, val in idfDict.items():\n",
        "        idfDict[word] = math.log10(N / float(val))\n",
        "        \n",
        "    return idfDict "
      ],
      "execution_count": 0,
      "outputs": []
    },
    {
      "metadata": {
        "id": "ArbsY0N0kNfw",
        "colab_type": "code",
        "colab": {}
      },
      "cell_type": "code",
      "source": [
        "idfs = computeIDF([wordDictA, wordDictB,wordDictQ])\n",
        "import pandas as pd\n",
        "ID=pd.DataFrame([idfs])"
      ],
      "execution_count": 0,
      "outputs": []
    },
    {
      "metadata": {
        "id": "MHYtxBWVkNf0",
        "colab_type": "code",
        "colab": {}
      },
      "cell_type": "code",
      "source": [
        "def computeTFIDF(tfBow, idfs):\n",
        "    tfidf = {}\n",
        "    for word, val in tfBow.items():\n",
        "        tfidf[word] = val*idfs[word]\n",
        "    return tfidf"
      ],
      "execution_count": 0,
      "outputs": []
    },
    {
      "metadata": {
        "id": "HTRTXOlhkNf5",
        "colab_type": "code",
        "colab": {}
      },
      "cell_type": "code",
      "source": [
        "tfidfBowA = computeTFIDF(tfBowA, idfs)\n",
        "tfidfBowB = computeTFIDF(tfBowB, idfs)\n",
        "tfidfBowQ = computeTFIDF(tfBowQ, idfs)"
      ],
      "execution_count": 0,
      "outputs": []
    },
    {
      "metadata": {
        "id": "Q1-_ojHRkNf-",
        "colab_type": "code",
        "outputId": "95c87978-ed5a-4a01-a05f-043e5470947e",
        "colab": {
          "base_uri": "https://localhost:8080/",
          "height": 162
        }
      },
      "cell_type": "code",
      "source": [
        "pd.DataFrame([tfidfBowA, tfidfBowB, tfidfBowQ])"
      ],
      "execution_count": 0,
      "outputs": [
        {
          "output_type": "execute_result",
          "data": {
            "text/html": [
              "<div>\n",
              "<style scoped>\n",
              "    .dataframe tbody tr th:only-of-type {\n",
              "        vertical-align: middle;\n",
              "    }\n",
              "\n",
              "    .dataframe tbody tr th {\n",
              "        vertical-align: top;\n",
              "    }\n",
              "\n",
              "    .dataframe thead th {\n",
              "        text-align: right;\n",
              "    }\n",
              "</style>\n",
              "<table border=\"1\" class=\"dataframe\">\n",
              "  <thead>\n",
              "    <tr style=\"text-align: right;\">\n",
              "      <th></th>\n",
              "      <th></th>\n",
              "      <th>a</th>\n",
              "      <th>day</th>\n",
              "      <th>enjoyed</th>\n",
              "      <th>good</th>\n",
              "      <th>had</th>\n",
              "      <th>happy</th>\n",
              "      <th>i</th>\n",
              "      <th>lot</th>\n",
              "      <th>my</th>\n",
              "      <th>park</th>\n",
              "      <th>teacher</th>\n",
              "      <th>theatre</th>\n",
              "      <th>to</th>\n",
              "      <th>today</th>\n",
              "      <th>very</th>\n",
              "      <th>was</th>\n",
              "      <th>went</th>\n",
              "    </tr>\n",
              "  </thead>\n",
              "  <tbody>\n",
              "    <tr>\n",
              "      <th>0</th>\n",
              "      <td>0.000000</td>\n",
              "      <td>0.0</td>\n",
              "      <td>0.047712</td>\n",
              "      <td>0.000000</td>\n",
              "      <td>0.047712</td>\n",
              "      <td>0.047712</td>\n",
              "      <td>0.047712</td>\n",
              "      <td>0.0</td>\n",
              "      <td>0.000000</td>\n",
              "      <td>0.047712</td>\n",
              "      <td>0.000000</td>\n",
              "      <td>0.047712</td>\n",
              "      <td>0.000000</td>\n",
              "      <td>0.000000</td>\n",
              "      <td>0.000000</td>\n",
              "      <td>0.047712</td>\n",
              "      <td>0.047712</td>\n",
              "      <td>0.000000</td>\n",
              "    </tr>\n",
              "    <tr>\n",
              "      <th>1</th>\n",
              "      <td>0.000000</td>\n",
              "      <td>0.0</td>\n",
              "      <td>0.000000</td>\n",
              "      <td>0.019566</td>\n",
              "      <td>0.000000</td>\n",
              "      <td>0.000000</td>\n",
              "      <td>0.000000</td>\n",
              "      <td>0.0</td>\n",
              "      <td>0.019566</td>\n",
              "      <td>0.000000</td>\n",
              "      <td>0.000000</td>\n",
              "      <td>0.000000</td>\n",
              "      <td>0.053013</td>\n",
              "      <td>0.019566</td>\n",
              "      <td>0.019566</td>\n",
              "      <td>0.000000</td>\n",
              "      <td>0.000000</td>\n",
              "      <td>0.019566</td>\n",
              "    </tr>\n",
              "    <tr>\n",
              "      <th>2</th>\n",
              "      <td>0.047712</td>\n",
              "      <td>0.0</td>\n",
              "      <td>0.000000</td>\n",
              "      <td>0.017609</td>\n",
              "      <td>0.000000</td>\n",
              "      <td>0.000000</td>\n",
              "      <td>0.000000</td>\n",
              "      <td>0.0</td>\n",
              "      <td>0.017609</td>\n",
              "      <td>0.000000</td>\n",
              "      <td>0.047712</td>\n",
              "      <td>0.000000</td>\n",
              "      <td>0.000000</td>\n",
              "      <td>0.017609</td>\n",
              "      <td>0.017609</td>\n",
              "      <td>0.000000</td>\n",
              "      <td>0.000000</td>\n",
              "      <td>0.017609</td>\n",
              "    </tr>\n",
              "  </tbody>\n",
              "</table>\n",
              "</div>"
            ],
            "text/plain": [
              "               a       day   enjoyed      good       had     happy    i  \\\n",
              "0  0.000000  0.0  0.047712  0.000000  0.047712  0.047712  0.047712  0.0   \n",
              "1  0.000000  0.0  0.000000  0.019566  0.000000  0.000000  0.000000  0.0   \n",
              "2  0.047712  0.0  0.000000  0.017609  0.000000  0.000000  0.000000  0.0   \n",
              "\n",
              "        lot        my      park   teacher   theatre        to     today  \\\n",
              "0  0.000000  0.047712  0.000000  0.047712  0.000000  0.000000  0.000000   \n",
              "1  0.019566  0.000000  0.000000  0.000000  0.053013  0.019566  0.019566   \n",
              "2  0.017609  0.000000  0.047712  0.000000  0.000000  0.017609  0.017609   \n",
              "\n",
              "       very       was      went  \n",
              "0  0.047712  0.047712  0.000000  \n",
              "1  0.000000  0.000000  0.019566  \n",
              "2  0.000000  0.000000  0.017609  "
            ]
          },
          "metadata": {
            "tags": []
          },
          "execution_count": 17
        }
      ]
    },
    {
      "metadata": {
        "id": "-tbbTJCckNgC",
        "colab_type": "code",
        "outputId": "4eebe239-82bf-4763-9461-b2e224c3a36e",
        "colab": {
          "base_uri": "https://localhost:8080/",
          "height": 34
        }
      },
      "cell_type": "code",
      "source": [
        "import re, math\n",
        "from collections import Counter\n",
        "\n",
        "WORD = re.compile(r'\\w+')\n",
        "def get_cosine(vec1, vec2):\n",
        "     intersection = set(vec1.keys()) & set(vec2.keys())\n",
        "     numerator = sum([vec1[x] * vec2[x] for x in intersection])\n",
        "\n",
        "     sum1 = sum([vec1[x]**2 for x in vec1.keys()])\n",
        "     sum2 = sum([vec2[x]**2 for x in vec2.keys()])\n",
        "     denominator = math.sqrt(sum1) * math.sqrt(sum2)\n",
        "\n",
        "     if not denominator:\n",
        "        return 0.0\n",
        "     else:\n",
        "        return float(numerator) / denominator\n",
        "\n",
        "def text_to_vector(text):\n",
        "     words = WORD.findall(text)\n",
        "     return Counter(words)\n",
        "\n",
        "vector1 = text_to_vector(docA)\n",
        "vector2 = text_to_vector(docB)\n",
        "vectorQ= text_to_vector(docQ)\n",
        "\n",
        "cosine = get_cosine(vector1, vectorQ)\n",
        "print ('Cosine:',cosine)"
      ],
      "execution_count": 0,
      "outputs": [
        {
          "output_type": "stream",
          "text": [
            "Cosine: 0.28603877677367767\n"
          ],
          "name": "stdout"
        }
      ]
    },
    {
      "metadata": {
        "id": "HKw69u-KkNgI",
        "colab_type": "code",
        "outputId": "be7dc8e0-e24e-4aaa-f88e-821103a82fe8",
        "colab": {
          "base_uri": "https://localhost:8080/",
          "height": 34
        }
      },
      "cell_type": "code",
      "source": [
        "cosine=get_cosine(vector2, vectorQ)\n",
        "print('Cosine:',cosine)"
      ],
      "execution_count": 0,
      "outputs": [
        {
          "output_type": "stream",
          "text": [
            "Cosine: 0.9090909090909091\n"
          ],
          "name": "stdout"
        }
      ]
    },
    {
      "metadata": {
        "id": "dDotXgvXkNgO",
        "colab_type": "code",
        "colab": {}
      },
      "cell_type": "code",
      "source": [
        ""
      ],
      "execution_count": 0,
      "outputs": []
    }
  ]
}